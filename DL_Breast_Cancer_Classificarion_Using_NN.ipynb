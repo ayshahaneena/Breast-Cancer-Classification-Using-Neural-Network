{
  "nbformat": 4,
  "nbformat_minor": 0,
  "metadata": {
    "colab": {
      "provenance": [],
      "authorship_tag": "ABX9TyM3mC0SPvdnz6nY1Ymfv9Dr",
      "include_colab_link": true
    },
    "kernelspec": {
      "name": "python3",
      "display_name": "Python 3"
    },
    "language_info": {
      "name": "python"
    }
  },
  "cells": [
    {
      "cell_type": "markdown",
      "metadata": {
        "id": "view-in-github",
        "colab_type": "text"
      },
      "source": [
        "<a href=\"https://colab.research.google.com/github/ayshahaneena/Breast-Cancer-Classification-Using-Neural-Network/blob/main/DL_Breast_Cancer_Classificarion_Using_NN.ipynb\" target=\"_parent\"><img src=\"https://colab.research.google.com/assets/colab-badge.svg\" alt=\"Open In Colab\"/></a>"
      ]
    },
    {
      "cell_type": "markdown",
      "source": [
        "#  **Breast Cancer Classification Using Neural network**\n"
      ],
      "metadata": {
        "id": "F0BFSSOGadnT"
      }
    },
    {
      "cell_type": "code",
      "execution_count": 1,
      "metadata": {
        "id": "QqK_DWaJaRaX"
      },
      "outputs": [],
      "source": [
        "import numpy as np\n",
        "import pandas as pd\n",
        "import matplotlib.pyplot as plt\n",
        "import seaborn as sns\n",
        "import sklearn.datasets\n",
        "from sklearn.model_selection import train_test_split"
      ]
    },
    {
      "cell_type": "code",
      "source": [
        "dataset = sklearn.datasets.load_breast_cancer()\n",
        "dataset"
      ],
      "metadata": {
        "colab": {
          "base_uri": "https://localhost:8080/"
        },
        "id": "l-12zDEMbTm-",
        "outputId": "8965ae4d-aace-47f5-af41-f252f8ecf8af"
      },
      "execution_count": 2,
      "outputs": [
        {
          "output_type": "execute_result",
          "data": {
            "text/plain": [
              "{'data': array([[1.799e+01, 1.038e+01, 1.228e+02, ..., 2.654e-01, 4.601e-01,\n",
              "         1.189e-01],\n",
              "        [2.057e+01, 1.777e+01, 1.329e+02, ..., 1.860e-01, 2.750e-01,\n",
              "         8.902e-02],\n",
              "        [1.969e+01, 2.125e+01, 1.300e+02, ..., 2.430e-01, 3.613e-01,\n",
              "         8.758e-02],\n",
              "        ...,\n",
              "        [1.660e+01, 2.808e+01, 1.083e+02, ..., 1.418e-01, 2.218e-01,\n",
              "         7.820e-02],\n",
              "        [2.060e+01, 2.933e+01, 1.401e+02, ..., 2.650e-01, 4.087e-01,\n",
              "         1.240e-01],\n",
              "        [7.760e+00, 2.454e+01, 4.792e+01, ..., 0.000e+00, 2.871e-01,\n",
              "         7.039e-02]]),\n",
              " 'target': array([0, 0, 0, 0, 0, 0, 0, 0, 0, 0, 0, 0, 0, 0, 0, 0, 0, 0, 0, 1, 1, 1,\n",
              "        0, 0, 0, 0, 0, 0, 0, 0, 0, 0, 0, 0, 0, 0, 0, 1, 0, 0, 0, 0, 0, 0,\n",
              "        0, 0, 1, 0, 1, 1, 1, 1, 1, 0, 0, 1, 0, 0, 1, 1, 1, 1, 0, 1, 0, 0,\n",
              "        1, 1, 1, 1, 0, 1, 0, 0, 1, 0, 1, 0, 0, 1, 1, 1, 0, 0, 1, 0, 0, 0,\n",
              "        1, 1, 1, 0, 1, 1, 0, 0, 1, 1, 1, 0, 0, 1, 1, 1, 1, 0, 1, 1, 0, 1,\n",
              "        1, 1, 1, 1, 1, 1, 1, 0, 0, 0, 1, 0, 0, 1, 1, 1, 0, 0, 1, 0, 1, 0,\n",
              "        0, 1, 0, 0, 1, 1, 0, 1, 1, 0, 1, 1, 1, 1, 0, 1, 1, 1, 1, 1, 1, 1,\n",
              "        1, 1, 0, 1, 1, 1, 1, 0, 0, 1, 0, 1, 1, 0, 0, 1, 1, 0, 0, 1, 1, 1,\n",
              "        1, 0, 1, 1, 0, 0, 0, 1, 0, 1, 0, 1, 1, 1, 0, 1, 1, 0, 0, 1, 0, 0,\n",
              "        0, 0, 1, 0, 0, 0, 1, 0, 1, 0, 1, 1, 0, 1, 0, 0, 0, 0, 1, 1, 0, 0,\n",
              "        1, 1, 1, 0, 1, 1, 1, 1, 1, 0, 0, 1, 1, 0, 1, 1, 0, 0, 1, 0, 1, 1,\n",
              "        1, 1, 0, 1, 1, 1, 1, 1, 0, 1, 0, 0, 0, 0, 0, 0, 0, 0, 0, 0, 0, 0,\n",
              "        0, 0, 1, 1, 1, 1, 1, 1, 0, 1, 0, 1, 1, 0, 1, 1, 0, 1, 0, 0, 1, 1,\n",
              "        1, 1, 1, 1, 1, 1, 1, 1, 1, 1, 1, 0, 1, 1, 0, 1, 0, 1, 1, 1, 1, 1,\n",
              "        1, 1, 1, 1, 1, 1, 1, 1, 1, 0, 1, 1, 1, 0, 1, 0, 1, 1, 1, 1, 0, 0,\n",
              "        0, 1, 1, 1, 1, 0, 1, 0, 1, 0, 1, 1, 1, 0, 1, 1, 1, 1, 1, 1, 1, 0,\n",
              "        0, 0, 1, 1, 1, 1, 1, 1, 1, 1, 1, 1, 1, 0, 0, 1, 0, 0, 0, 1, 0, 0,\n",
              "        1, 1, 1, 1, 1, 0, 1, 1, 1, 1, 1, 0, 1, 1, 1, 0, 1, 1, 0, 0, 1, 1,\n",
              "        1, 1, 1, 1, 0, 1, 1, 1, 1, 1, 1, 1, 0, 1, 1, 1, 1, 1, 0, 1, 1, 0,\n",
              "        1, 1, 1, 1, 1, 1, 1, 1, 1, 1, 1, 1, 0, 1, 0, 0, 1, 0, 1, 1, 1, 1,\n",
              "        1, 0, 1, 1, 0, 1, 0, 1, 1, 0, 1, 0, 1, 1, 1, 1, 1, 1, 1, 1, 0, 0,\n",
              "        1, 1, 1, 1, 1, 1, 0, 1, 1, 1, 1, 1, 1, 1, 1, 1, 1, 0, 1, 1, 1, 1,\n",
              "        1, 1, 1, 0, 1, 0, 1, 1, 0, 1, 1, 1, 1, 1, 0, 0, 1, 0, 1, 0, 1, 1,\n",
              "        1, 1, 1, 0, 1, 1, 0, 1, 0, 1, 0, 0, 1, 1, 1, 0, 1, 1, 1, 1, 1, 1,\n",
              "        1, 1, 1, 1, 1, 0, 1, 0, 0, 1, 1, 1, 1, 1, 1, 1, 1, 1, 1, 1, 1, 1,\n",
              "        1, 1, 1, 1, 1, 1, 1, 1, 1, 1, 1, 1, 0, 0, 0, 0, 0, 0, 1]),\n",
              " 'frame': None,\n",
              " 'target_names': array(['malignant', 'benign'], dtype='<U9'),\n",
              " 'DESCR': '.. _breast_cancer_dataset:\\n\\nBreast cancer wisconsin (diagnostic) dataset\\n--------------------------------------------\\n\\n**Data Set Characteristics:**\\n\\n    :Number of Instances: 569\\n\\n    :Number of Attributes: 30 numeric, predictive attributes and the class\\n\\n    :Attribute Information:\\n        - radius (mean of distances from center to points on the perimeter)\\n        - texture (standard deviation of gray-scale values)\\n        - perimeter\\n        - area\\n        - smoothness (local variation in radius lengths)\\n        - compactness (perimeter^2 / area - 1.0)\\n        - concavity (severity of concave portions of the contour)\\n        - concave points (number of concave portions of the contour)\\n        - symmetry\\n        - fractal dimension (\"coastline approximation\" - 1)\\n\\n        The mean, standard error, and \"worst\" or largest (mean of the three\\n        worst/largest values) of these features were computed for each image,\\n        resulting in 30 features.  For instance, field 0 is Mean Radius, field\\n        10 is Radius SE, field 20 is Worst Radius.\\n\\n        - class:\\n                - WDBC-Malignant\\n                - WDBC-Benign\\n\\n    :Summary Statistics:\\n\\n    ===================================== ====== ======\\n                                           Min    Max\\n    ===================================== ====== ======\\n    radius (mean):                        6.981  28.11\\n    texture (mean):                       9.71   39.28\\n    perimeter (mean):                     43.79  188.5\\n    area (mean):                          143.5  2501.0\\n    smoothness (mean):                    0.053  0.163\\n    compactness (mean):                   0.019  0.345\\n    concavity (mean):                     0.0    0.427\\n    concave points (mean):                0.0    0.201\\n    symmetry (mean):                      0.106  0.304\\n    fractal dimension (mean):             0.05   0.097\\n    radius (standard error):              0.112  2.873\\n    texture (standard error):             0.36   4.885\\n    perimeter (standard error):           0.757  21.98\\n    area (standard error):                6.802  542.2\\n    smoothness (standard error):          0.002  0.031\\n    compactness (standard error):         0.002  0.135\\n    concavity (standard error):           0.0    0.396\\n    concave points (standard error):      0.0    0.053\\n    symmetry (standard error):            0.008  0.079\\n    fractal dimension (standard error):   0.001  0.03\\n    radius (worst):                       7.93   36.04\\n    texture (worst):                      12.02  49.54\\n    perimeter (worst):                    50.41  251.2\\n    area (worst):                         185.2  4254.0\\n    smoothness (worst):                   0.071  0.223\\n    compactness (worst):                  0.027  1.058\\n    concavity (worst):                    0.0    1.252\\n    concave points (worst):               0.0    0.291\\n    symmetry (worst):                     0.156  0.664\\n    fractal dimension (worst):            0.055  0.208\\n    ===================================== ====== ======\\n\\n    :Missing Attribute Values: None\\n\\n    :Class Distribution: 212 - Malignant, 357 - Benign\\n\\n    :Creator:  Dr. William H. Wolberg, W. Nick Street, Olvi L. Mangasarian\\n\\n    :Donor: Nick Street\\n\\n    :Date: November, 1995\\n\\nThis is a copy of UCI ML Breast Cancer Wisconsin (Diagnostic) datasets.\\nhttps://goo.gl/U2Uwz2\\n\\nFeatures are computed from a digitized image of a fine needle\\naspirate (FNA) of a breast mass.  They describe\\ncharacteristics of the cell nuclei present in the image.\\n\\nSeparating plane described above was obtained using\\nMultisurface Method-Tree (MSM-T) [K. P. Bennett, \"Decision Tree\\nConstruction Via Linear Programming.\" Proceedings of the 4th\\nMidwest Artificial Intelligence and Cognitive Science Society,\\npp. 97-101, 1992], a classification method which uses linear\\nprogramming to construct a decision tree.  Relevant features\\nwere selected using an exhaustive search in the space of 1-4\\nfeatures and 1-3 separating planes.\\n\\nThe actual linear program used to obtain the separating plane\\nin the 3-dimensional space is that described in:\\n[K. P. Bennett and O. L. Mangasarian: \"Robust Linear\\nProgramming Discrimination of Two Linearly Inseparable Sets\",\\nOptimization Methods and Software 1, 1992, 23-34].\\n\\nThis database is also available through the UW CS ftp server:\\n\\nftp ftp.cs.wisc.edu\\ncd math-prog/cpo-dataset/machine-learn/WDBC/\\n\\n.. topic:: References\\n\\n   - W.N. Street, W.H. Wolberg and O.L. Mangasarian. Nuclear feature extraction \\n     for breast tumor diagnosis. IS&T/SPIE 1993 International Symposium on \\n     Electronic Imaging: Science and Technology, volume 1905, pages 861-870,\\n     San Jose, CA, 1993.\\n   - O.L. Mangasarian, W.N. Street and W.H. Wolberg. Breast cancer diagnosis and \\n     prognosis via linear programming. Operations Research, 43(4), pages 570-577, \\n     July-August 1995.\\n   - W.H. Wolberg, W.N. Street, and O.L. Mangasarian. Machine learning techniques\\n     to diagnose breast cancer from fine-needle aspirates. Cancer Letters 77 (1994) \\n     163-171.',\n",
              " 'feature_names': array(['mean radius', 'mean texture', 'mean perimeter', 'mean area',\n",
              "        'mean smoothness', 'mean compactness', 'mean concavity',\n",
              "        'mean concave points', 'mean symmetry', 'mean fractal dimension',\n",
              "        'radius error', 'texture error', 'perimeter error', 'area error',\n",
              "        'smoothness error', 'compactness error', 'concavity error',\n",
              "        'concave points error', 'symmetry error',\n",
              "        'fractal dimension error', 'worst radius', 'worst texture',\n",
              "        'worst perimeter', 'worst area', 'worst smoothness',\n",
              "        'worst compactness', 'worst concavity', 'worst concave points',\n",
              "        'worst symmetry', 'worst fractal dimension'], dtype='<U23'),\n",
              " 'filename': 'breast_cancer.csv',\n",
              " 'data_module': 'sklearn.datasets.data'}"
            ]
          },
          "metadata": {},
          "execution_count": 2
        }
      ]
    },
    {
      "cell_type": "code",
      "source": [
        "# converting dataset into pandas dataframe\n",
        "df = pd.DataFrame(dataset.data , columns=dataset.feature_names)"
      ],
      "metadata": {
        "id": "mIQF6KGubj_6"
      },
      "execution_count": 3,
      "outputs": []
    },
    {
      "cell_type": "code",
      "source": [
        "df.head()"
      ],
      "metadata": {
        "colab": {
          "base_uri": "https://localhost:8080/",
          "height": 290
        },
        "id": "x8ktuYyxcmuV",
        "outputId": "d960f46a-430e-4a76-d0ce-3f208aa21be3"
      },
      "execution_count": 4,
      "outputs": [
        {
          "output_type": "execute_result",
          "data": {
            "text/plain": [
              "   mean radius  mean texture  mean perimeter  mean area  mean smoothness  \\\n",
              "0        17.99         10.38          122.80     1001.0          0.11840   \n",
              "1        20.57         17.77          132.90     1326.0          0.08474   \n",
              "2        19.69         21.25          130.00     1203.0          0.10960   \n",
              "3        11.42         20.38           77.58      386.1          0.14250   \n",
              "4        20.29         14.34          135.10     1297.0          0.10030   \n",
              "\n",
              "   mean compactness  mean concavity  mean concave points  mean symmetry  \\\n",
              "0           0.27760          0.3001              0.14710         0.2419   \n",
              "1           0.07864          0.0869              0.07017         0.1812   \n",
              "2           0.15990          0.1974              0.12790         0.2069   \n",
              "3           0.28390          0.2414              0.10520         0.2597   \n",
              "4           0.13280          0.1980              0.10430         0.1809   \n",
              "\n",
              "   mean fractal dimension  ...  worst radius  worst texture  worst perimeter  \\\n",
              "0                 0.07871  ...         25.38          17.33           184.60   \n",
              "1                 0.05667  ...         24.99          23.41           158.80   \n",
              "2                 0.05999  ...         23.57          25.53           152.50   \n",
              "3                 0.09744  ...         14.91          26.50            98.87   \n",
              "4                 0.05883  ...         22.54          16.67           152.20   \n",
              "\n",
              "   worst area  worst smoothness  worst compactness  worst concavity  \\\n",
              "0      2019.0            0.1622             0.6656           0.7119   \n",
              "1      1956.0            0.1238             0.1866           0.2416   \n",
              "2      1709.0            0.1444             0.4245           0.4504   \n",
              "3       567.7            0.2098             0.8663           0.6869   \n",
              "4      1575.0            0.1374             0.2050           0.4000   \n",
              "\n",
              "   worst concave points  worst symmetry  worst fractal dimension  \n",
              "0                0.2654          0.4601                  0.11890  \n",
              "1                0.1860          0.2750                  0.08902  \n",
              "2                0.2430          0.3613                  0.08758  \n",
              "3                0.2575          0.6638                  0.17300  \n",
              "4                0.1625          0.2364                  0.07678  \n",
              "\n",
              "[5 rows x 30 columns]"
            ],
            "text/html": [
              "\n",
              "  <div id=\"df-e0bf8024-abdf-44d9-bd9c-b0ed5efdf7ac\" class=\"colab-df-container\">\n",
              "    <div>\n",
              "<style scoped>\n",
              "    .dataframe tbody tr th:only-of-type {\n",
              "        vertical-align: middle;\n",
              "    }\n",
              "\n",
              "    .dataframe tbody tr th {\n",
              "        vertical-align: top;\n",
              "    }\n",
              "\n",
              "    .dataframe thead th {\n",
              "        text-align: right;\n",
              "    }\n",
              "</style>\n",
              "<table border=\"1\" class=\"dataframe\">\n",
              "  <thead>\n",
              "    <tr style=\"text-align: right;\">\n",
              "      <th></th>\n",
              "      <th>mean radius</th>\n",
              "      <th>mean texture</th>\n",
              "      <th>mean perimeter</th>\n",
              "      <th>mean area</th>\n",
              "      <th>mean smoothness</th>\n",
              "      <th>mean compactness</th>\n",
              "      <th>mean concavity</th>\n",
              "      <th>mean concave points</th>\n",
              "      <th>mean symmetry</th>\n",
              "      <th>mean fractal dimension</th>\n",
              "      <th>...</th>\n",
              "      <th>worst radius</th>\n",
              "      <th>worst texture</th>\n",
              "      <th>worst perimeter</th>\n",
              "      <th>worst area</th>\n",
              "      <th>worst smoothness</th>\n",
              "      <th>worst compactness</th>\n",
              "      <th>worst concavity</th>\n",
              "      <th>worst concave points</th>\n",
              "      <th>worst symmetry</th>\n",
              "      <th>worst fractal dimension</th>\n",
              "    </tr>\n",
              "  </thead>\n",
              "  <tbody>\n",
              "    <tr>\n",
              "      <th>0</th>\n",
              "      <td>17.99</td>\n",
              "      <td>10.38</td>\n",
              "      <td>122.80</td>\n",
              "      <td>1001.0</td>\n",
              "      <td>0.11840</td>\n",
              "      <td>0.27760</td>\n",
              "      <td>0.3001</td>\n",
              "      <td>0.14710</td>\n",
              "      <td>0.2419</td>\n",
              "      <td>0.07871</td>\n",
              "      <td>...</td>\n",
              "      <td>25.38</td>\n",
              "      <td>17.33</td>\n",
              "      <td>184.60</td>\n",
              "      <td>2019.0</td>\n",
              "      <td>0.1622</td>\n",
              "      <td>0.6656</td>\n",
              "      <td>0.7119</td>\n",
              "      <td>0.2654</td>\n",
              "      <td>0.4601</td>\n",
              "      <td>0.11890</td>\n",
              "    </tr>\n",
              "    <tr>\n",
              "      <th>1</th>\n",
              "      <td>20.57</td>\n",
              "      <td>17.77</td>\n",
              "      <td>132.90</td>\n",
              "      <td>1326.0</td>\n",
              "      <td>0.08474</td>\n",
              "      <td>0.07864</td>\n",
              "      <td>0.0869</td>\n",
              "      <td>0.07017</td>\n",
              "      <td>0.1812</td>\n",
              "      <td>0.05667</td>\n",
              "      <td>...</td>\n",
              "      <td>24.99</td>\n",
              "      <td>23.41</td>\n",
              "      <td>158.80</td>\n",
              "      <td>1956.0</td>\n",
              "      <td>0.1238</td>\n",
              "      <td>0.1866</td>\n",
              "      <td>0.2416</td>\n",
              "      <td>0.1860</td>\n",
              "      <td>0.2750</td>\n",
              "      <td>0.08902</td>\n",
              "    </tr>\n",
              "    <tr>\n",
              "      <th>2</th>\n",
              "      <td>19.69</td>\n",
              "      <td>21.25</td>\n",
              "      <td>130.00</td>\n",
              "      <td>1203.0</td>\n",
              "      <td>0.10960</td>\n",
              "      <td>0.15990</td>\n",
              "      <td>0.1974</td>\n",
              "      <td>0.12790</td>\n",
              "      <td>0.2069</td>\n",
              "      <td>0.05999</td>\n",
              "      <td>...</td>\n",
              "      <td>23.57</td>\n",
              "      <td>25.53</td>\n",
              "      <td>152.50</td>\n",
              "      <td>1709.0</td>\n",
              "      <td>0.1444</td>\n",
              "      <td>0.4245</td>\n",
              "      <td>0.4504</td>\n",
              "      <td>0.2430</td>\n",
              "      <td>0.3613</td>\n",
              "      <td>0.08758</td>\n",
              "    </tr>\n",
              "    <tr>\n",
              "      <th>3</th>\n",
              "      <td>11.42</td>\n",
              "      <td>20.38</td>\n",
              "      <td>77.58</td>\n",
              "      <td>386.1</td>\n",
              "      <td>0.14250</td>\n",
              "      <td>0.28390</td>\n",
              "      <td>0.2414</td>\n",
              "      <td>0.10520</td>\n",
              "      <td>0.2597</td>\n",
              "      <td>0.09744</td>\n",
              "      <td>...</td>\n",
              "      <td>14.91</td>\n",
              "      <td>26.50</td>\n",
              "      <td>98.87</td>\n",
              "      <td>567.7</td>\n",
              "      <td>0.2098</td>\n",
              "      <td>0.8663</td>\n",
              "      <td>0.6869</td>\n",
              "      <td>0.2575</td>\n",
              "      <td>0.6638</td>\n",
              "      <td>0.17300</td>\n",
              "    </tr>\n",
              "    <tr>\n",
              "      <th>4</th>\n",
              "      <td>20.29</td>\n",
              "      <td>14.34</td>\n",
              "      <td>135.10</td>\n",
              "      <td>1297.0</td>\n",
              "      <td>0.10030</td>\n",
              "      <td>0.13280</td>\n",
              "      <td>0.1980</td>\n",
              "      <td>0.10430</td>\n",
              "      <td>0.1809</td>\n",
              "      <td>0.05883</td>\n",
              "      <td>...</td>\n",
              "      <td>22.54</td>\n",
              "      <td>16.67</td>\n",
              "      <td>152.20</td>\n",
              "      <td>1575.0</td>\n",
              "      <td>0.1374</td>\n",
              "      <td>0.2050</td>\n",
              "      <td>0.4000</td>\n",
              "      <td>0.1625</td>\n",
              "      <td>0.2364</td>\n",
              "      <td>0.07678</td>\n",
              "    </tr>\n",
              "  </tbody>\n",
              "</table>\n",
              "<p>5 rows × 30 columns</p>\n",
              "</div>\n",
              "    <div class=\"colab-df-buttons\">\n",
              "\n",
              "  <div class=\"colab-df-container\">\n",
              "    <button class=\"colab-df-convert\" onclick=\"convertToInteractive('df-e0bf8024-abdf-44d9-bd9c-b0ed5efdf7ac')\"\n",
              "            title=\"Convert this dataframe to an interactive table.\"\n",
              "            style=\"display:none;\">\n",
              "\n",
              "  <svg xmlns=\"http://www.w3.org/2000/svg\" height=\"24px\" viewBox=\"0 -960 960 960\">\n",
              "    <path d=\"M120-120v-720h720v720H120Zm60-500h600v-160H180v160Zm220 220h160v-160H400v160Zm0 220h160v-160H400v160ZM180-400h160v-160H180v160Zm440 0h160v-160H620v160ZM180-180h160v-160H180v160Zm440 0h160v-160H620v160Z\"/>\n",
              "  </svg>\n",
              "    </button>\n",
              "\n",
              "  <style>\n",
              "    .colab-df-container {\n",
              "      display:flex;\n",
              "      gap: 12px;\n",
              "    }\n",
              "\n",
              "    .colab-df-convert {\n",
              "      background-color: #E8F0FE;\n",
              "      border: none;\n",
              "      border-radius: 50%;\n",
              "      cursor: pointer;\n",
              "      display: none;\n",
              "      fill: #1967D2;\n",
              "      height: 32px;\n",
              "      padding: 0 0 0 0;\n",
              "      width: 32px;\n",
              "    }\n",
              "\n",
              "    .colab-df-convert:hover {\n",
              "      background-color: #E2EBFA;\n",
              "      box-shadow: 0px 1px 2px rgba(60, 64, 67, 0.3), 0px 1px 3px 1px rgba(60, 64, 67, 0.15);\n",
              "      fill: #174EA6;\n",
              "    }\n",
              "\n",
              "    .colab-df-buttons div {\n",
              "      margin-bottom: 4px;\n",
              "    }\n",
              "\n",
              "    [theme=dark] .colab-df-convert {\n",
              "      background-color: #3B4455;\n",
              "      fill: #D2E3FC;\n",
              "    }\n",
              "\n",
              "    [theme=dark] .colab-df-convert:hover {\n",
              "      background-color: #434B5C;\n",
              "      box-shadow: 0px 1px 3px 1px rgba(0, 0, 0, 0.15);\n",
              "      filter: drop-shadow(0px 1px 2px rgba(0, 0, 0, 0.3));\n",
              "      fill: #FFFFFF;\n",
              "    }\n",
              "  </style>\n",
              "\n",
              "    <script>\n",
              "      const buttonEl =\n",
              "        document.querySelector('#df-e0bf8024-abdf-44d9-bd9c-b0ed5efdf7ac button.colab-df-convert');\n",
              "      buttonEl.style.display =\n",
              "        google.colab.kernel.accessAllowed ? 'block' : 'none';\n",
              "\n",
              "      async function convertToInteractive(key) {\n",
              "        const element = document.querySelector('#df-e0bf8024-abdf-44d9-bd9c-b0ed5efdf7ac');\n",
              "        const dataTable =\n",
              "          await google.colab.kernel.invokeFunction('convertToInteractive',\n",
              "                                                    [key], {});\n",
              "        if (!dataTable) return;\n",
              "\n",
              "        const docLinkHtml = 'Like what you see? Visit the ' +\n",
              "          '<a target=\"_blank\" href=https://colab.research.google.com/notebooks/data_table.ipynb>data table notebook</a>'\n",
              "          + ' to learn more about interactive tables.';\n",
              "        element.innerHTML = '';\n",
              "        dataTable['output_type'] = 'display_data';\n",
              "        await google.colab.output.renderOutput(dataTable, element);\n",
              "        const docLink = document.createElement('div');\n",
              "        docLink.innerHTML = docLinkHtml;\n",
              "        element.appendChild(docLink);\n",
              "      }\n",
              "    </script>\n",
              "  </div>\n",
              "\n",
              "\n",
              "<div id=\"df-369d643d-7f23-4c96-9159-7161bd70f0fb\">\n",
              "  <button class=\"colab-df-quickchart\" onclick=\"quickchart('df-369d643d-7f23-4c96-9159-7161bd70f0fb')\"\n",
              "            title=\"Suggest charts\"\n",
              "            style=\"display:none;\">\n",
              "\n",
              "<svg xmlns=\"http://www.w3.org/2000/svg\" height=\"24px\"viewBox=\"0 0 24 24\"\n",
              "     width=\"24px\">\n",
              "    <g>\n",
              "        <path d=\"M19 3H5c-1.1 0-2 .9-2 2v14c0 1.1.9 2 2 2h14c1.1 0 2-.9 2-2V5c0-1.1-.9-2-2-2zM9 17H7v-7h2v7zm4 0h-2V7h2v10zm4 0h-2v-4h2v4z\"/>\n",
              "    </g>\n",
              "</svg>\n",
              "  </button>\n",
              "\n",
              "<style>\n",
              "  .colab-df-quickchart {\n",
              "      --bg-color: #E8F0FE;\n",
              "      --fill-color: #1967D2;\n",
              "      --hover-bg-color: #E2EBFA;\n",
              "      --hover-fill-color: #174EA6;\n",
              "      --disabled-fill-color: #AAA;\n",
              "      --disabled-bg-color: #DDD;\n",
              "  }\n",
              "\n",
              "  [theme=dark] .colab-df-quickchart {\n",
              "      --bg-color: #3B4455;\n",
              "      --fill-color: #D2E3FC;\n",
              "      --hover-bg-color: #434B5C;\n",
              "      --hover-fill-color: #FFFFFF;\n",
              "      --disabled-bg-color: #3B4455;\n",
              "      --disabled-fill-color: #666;\n",
              "  }\n",
              "\n",
              "  .colab-df-quickchart {\n",
              "    background-color: var(--bg-color);\n",
              "    border: none;\n",
              "    border-radius: 50%;\n",
              "    cursor: pointer;\n",
              "    display: none;\n",
              "    fill: var(--fill-color);\n",
              "    height: 32px;\n",
              "    padding: 0;\n",
              "    width: 32px;\n",
              "  }\n",
              "\n",
              "  .colab-df-quickchart:hover {\n",
              "    background-color: var(--hover-bg-color);\n",
              "    box-shadow: 0 1px 2px rgba(60, 64, 67, 0.3), 0 1px 3px 1px rgba(60, 64, 67, 0.15);\n",
              "    fill: var(--button-hover-fill-color);\n",
              "  }\n",
              "\n",
              "  .colab-df-quickchart-complete:disabled,\n",
              "  .colab-df-quickchart-complete:disabled:hover {\n",
              "    background-color: var(--disabled-bg-color);\n",
              "    fill: var(--disabled-fill-color);\n",
              "    box-shadow: none;\n",
              "  }\n",
              "\n",
              "  .colab-df-spinner {\n",
              "    border: 2px solid var(--fill-color);\n",
              "    border-color: transparent;\n",
              "    border-bottom-color: var(--fill-color);\n",
              "    animation:\n",
              "      spin 1s steps(1) infinite;\n",
              "  }\n",
              "\n",
              "  @keyframes spin {\n",
              "    0% {\n",
              "      border-color: transparent;\n",
              "      border-bottom-color: var(--fill-color);\n",
              "      border-left-color: var(--fill-color);\n",
              "    }\n",
              "    20% {\n",
              "      border-color: transparent;\n",
              "      border-left-color: var(--fill-color);\n",
              "      border-top-color: var(--fill-color);\n",
              "    }\n",
              "    30% {\n",
              "      border-color: transparent;\n",
              "      border-left-color: var(--fill-color);\n",
              "      border-top-color: var(--fill-color);\n",
              "      border-right-color: var(--fill-color);\n",
              "    }\n",
              "    40% {\n",
              "      border-color: transparent;\n",
              "      border-right-color: var(--fill-color);\n",
              "      border-top-color: var(--fill-color);\n",
              "    }\n",
              "    60% {\n",
              "      border-color: transparent;\n",
              "      border-right-color: var(--fill-color);\n",
              "    }\n",
              "    80% {\n",
              "      border-color: transparent;\n",
              "      border-right-color: var(--fill-color);\n",
              "      border-bottom-color: var(--fill-color);\n",
              "    }\n",
              "    90% {\n",
              "      border-color: transparent;\n",
              "      border-bottom-color: var(--fill-color);\n",
              "    }\n",
              "  }\n",
              "</style>\n",
              "\n",
              "  <script>\n",
              "    async function quickchart(key) {\n",
              "      const quickchartButtonEl =\n",
              "        document.querySelector('#' + key + ' button');\n",
              "      quickchartButtonEl.disabled = true;  // To prevent multiple clicks.\n",
              "      quickchartButtonEl.classList.add('colab-df-spinner');\n",
              "      try {\n",
              "        const charts = await google.colab.kernel.invokeFunction(\n",
              "            'suggestCharts', [key], {});\n",
              "      } catch (error) {\n",
              "        console.error('Error during call to suggestCharts:', error);\n",
              "      }\n",
              "      quickchartButtonEl.classList.remove('colab-df-spinner');\n",
              "      quickchartButtonEl.classList.add('colab-df-quickchart-complete');\n",
              "    }\n",
              "    (() => {\n",
              "      let quickchartButtonEl =\n",
              "        document.querySelector('#df-369d643d-7f23-4c96-9159-7161bd70f0fb button');\n",
              "      quickchartButtonEl.style.display =\n",
              "        google.colab.kernel.accessAllowed ? 'block' : 'none';\n",
              "    })();\n",
              "  </script>\n",
              "</div>\n",
              "\n",
              "    </div>\n",
              "  </div>\n"
            ],
            "application/vnd.google.colaboratory.intrinsic+json": {
              "type": "dataframe",
              "variable_name": "df"
            }
          },
          "metadata": {},
          "execution_count": 4
        }
      ]
    },
    {
      "cell_type": "code",
      "source": [
        "# Adding labell values into dataframe\n",
        "df['label'] = dataset.target"
      ],
      "metadata": {
        "id": "8a6sDjujcocr"
      },
      "execution_count": 5,
      "outputs": []
    },
    {
      "cell_type": "code",
      "source": [
        "df.tail()"
      ],
      "metadata": {
        "colab": {
          "base_uri": "https://localhost:8080/",
          "height": 290
        },
        "id": "afsR9Yroc3Oc",
        "outputId": "02553870-c262-4c95-c936-70e2f22c293e"
      },
      "execution_count": 6,
      "outputs": [
        {
          "output_type": "execute_result",
          "data": {
            "text/plain": [
              "     mean radius  mean texture  mean perimeter  mean area  mean smoothness  \\\n",
              "564        21.56         22.39          142.00     1479.0          0.11100   \n",
              "565        20.13         28.25          131.20     1261.0          0.09780   \n",
              "566        16.60         28.08          108.30      858.1          0.08455   \n",
              "567        20.60         29.33          140.10     1265.0          0.11780   \n",
              "568         7.76         24.54           47.92      181.0          0.05263   \n",
              "\n",
              "     mean compactness  mean concavity  mean concave points  mean symmetry  \\\n",
              "564           0.11590         0.24390              0.13890         0.1726   \n",
              "565           0.10340         0.14400              0.09791         0.1752   \n",
              "566           0.10230         0.09251              0.05302         0.1590   \n",
              "567           0.27700         0.35140              0.15200         0.2397   \n",
              "568           0.04362         0.00000              0.00000         0.1587   \n",
              "\n",
              "     mean fractal dimension  ...  worst texture  worst perimeter  worst area  \\\n",
              "564                 0.05623  ...          26.40           166.10      2027.0   \n",
              "565                 0.05533  ...          38.25           155.00      1731.0   \n",
              "566                 0.05648  ...          34.12           126.70      1124.0   \n",
              "567                 0.07016  ...          39.42           184.60      1821.0   \n",
              "568                 0.05884  ...          30.37            59.16       268.6   \n",
              "\n",
              "     worst smoothness  worst compactness  worst concavity  \\\n",
              "564           0.14100            0.21130           0.4107   \n",
              "565           0.11660            0.19220           0.3215   \n",
              "566           0.11390            0.30940           0.3403   \n",
              "567           0.16500            0.86810           0.9387   \n",
              "568           0.08996            0.06444           0.0000   \n",
              "\n",
              "     worst concave points  worst symmetry  worst fractal dimension  label  \n",
              "564                0.2216          0.2060                  0.07115      0  \n",
              "565                0.1628          0.2572                  0.06637      0  \n",
              "566                0.1418          0.2218                  0.07820      0  \n",
              "567                0.2650          0.4087                  0.12400      0  \n",
              "568                0.0000          0.2871                  0.07039      1  \n",
              "\n",
              "[5 rows x 31 columns]"
            ],
            "text/html": [
              "\n",
              "  <div id=\"df-e3a88ded-3d42-4e05-90b7-2fc3b0bc9ca0\" class=\"colab-df-container\">\n",
              "    <div>\n",
              "<style scoped>\n",
              "    .dataframe tbody tr th:only-of-type {\n",
              "        vertical-align: middle;\n",
              "    }\n",
              "\n",
              "    .dataframe tbody tr th {\n",
              "        vertical-align: top;\n",
              "    }\n",
              "\n",
              "    .dataframe thead th {\n",
              "        text-align: right;\n",
              "    }\n",
              "</style>\n",
              "<table border=\"1\" class=\"dataframe\">\n",
              "  <thead>\n",
              "    <tr style=\"text-align: right;\">\n",
              "      <th></th>\n",
              "      <th>mean radius</th>\n",
              "      <th>mean texture</th>\n",
              "      <th>mean perimeter</th>\n",
              "      <th>mean area</th>\n",
              "      <th>mean smoothness</th>\n",
              "      <th>mean compactness</th>\n",
              "      <th>mean concavity</th>\n",
              "      <th>mean concave points</th>\n",
              "      <th>mean symmetry</th>\n",
              "      <th>mean fractal dimension</th>\n",
              "      <th>...</th>\n",
              "      <th>worst texture</th>\n",
              "      <th>worst perimeter</th>\n",
              "      <th>worst area</th>\n",
              "      <th>worst smoothness</th>\n",
              "      <th>worst compactness</th>\n",
              "      <th>worst concavity</th>\n",
              "      <th>worst concave points</th>\n",
              "      <th>worst symmetry</th>\n",
              "      <th>worst fractal dimension</th>\n",
              "      <th>label</th>\n",
              "    </tr>\n",
              "  </thead>\n",
              "  <tbody>\n",
              "    <tr>\n",
              "      <th>564</th>\n",
              "      <td>21.56</td>\n",
              "      <td>22.39</td>\n",
              "      <td>142.00</td>\n",
              "      <td>1479.0</td>\n",
              "      <td>0.11100</td>\n",
              "      <td>0.11590</td>\n",
              "      <td>0.24390</td>\n",
              "      <td>0.13890</td>\n",
              "      <td>0.1726</td>\n",
              "      <td>0.05623</td>\n",
              "      <td>...</td>\n",
              "      <td>26.40</td>\n",
              "      <td>166.10</td>\n",
              "      <td>2027.0</td>\n",
              "      <td>0.14100</td>\n",
              "      <td>0.21130</td>\n",
              "      <td>0.4107</td>\n",
              "      <td>0.2216</td>\n",
              "      <td>0.2060</td>\n",
              "      <td>0.07115</td>\n",
              "      <td>0</td>\n",
              "    </tr>\n",
              "    <tr>\n",
              "      <th>565</th>\n",
              "      <td>20.13</td>\n",
              "      <td>28.25</td>\n",
              "      <td>131.20</td>\n",
              "      <td>1261.0</td>\n",
              "      <td>0.09780</td>\n",
              "      <td>0.10340</td>\n",
              "      <td>0.14400</td>\n",
              "      <td>0.09791</td>\n",
              "      <td>0.1752</td>\n",
              "      <td>0.05533</td>\n",
              "      <td>...</td>\n",
              "      <td>38.25</td>\n",
              "      <td>155.00</td>\n",
              "      <td>1731.0</td>\n",
              "      <td>0.11660</td>\n",
              "      <td>0.19220</td>\n",
              "      <td>0.3215</td>\n",
              "      <td>0.1628</td>\n",
              "      <td>0.2572</td>\n",
              "      <td>0.06637</td>\n",
              "      <td>0</td>\n",
              "    </tr>\n",
              "    <tr>\n",
              "      <th>566</th>\n",
              "      <td>16.60</td>\n",
              "      <td>28.08</td>\n",
              "      <td>108.30</td>\n",
              "      <td>858.1</td>\n",
              "      <td>0.08455</td>\n",
              "      <td>0.10230</td>\n",
              "      <td>0.09251</td>\n",
              "      <td>0.05302</td>\n",
              "      <td>0.1590</td>\n",
              "      <td>0.05648</td>\n",
              "      <td>...</td>\n",
              "      <td>34.12</td>\n",
              "      <td>126.70</td>\n",
              "      <td>1124.0</td>\n",
              "      <td>0.11390</td>\n",
              "      <td>0.30940</td>\n",
              "      <td>0.3403</td>\n",
              "      <td>0.1418</td>\n",
              "      <td>0.2218</td>\n",
              "      <td>0.07820</td>\n",
              "      <td>0</td>\n",
              "    </tr>\n",
              "    <tr>\n",
              "      <th>567</th>\n",
              "      <td>20.60</td>\n",
              "      <td>29.33</td>\n",
              "      <td>140.10</td>\n",
              "      <td>1265.0</td>\n",
              "      <td>0.11780</td>\n",
              "      <td>0.27700</td>\n",
              "      <td>0.35140</td>\n",
              "      <td>0.15200</td>\n",
              "      <td>0.2397</td>\n",
              "      <td>0.07016</td>\n",
              "      <td>...</td>\n",
              "      <td>39.42</td>\n",
              "      <td>184.60</td>\n",
              "      <td>1821.0</td>\n",
              "      <td>0.16500</td>\n",
              "      <td>0.86810</td>\n",
              "      <td>0.9387</td>\n",
              "      <td>0.2650</td>\n",
              "      <td>0.4087</td>\n",
              "      <td>0.12400</td>\n",
              "      <td>0</td>\n",
              "    </tr>\n",
              "    <tr>\n",
              "      <th>568</th>\n",
              "      <td>7.76</td>\n",
              "      <td>24.54</td>\n",
              "      <td>47.92</td>\n",
              "      <td>181.0</td>\n",
              "      <td>0.05263</td>\n",
              "      <td>0.04362</td>\n",
              "      <td>0.00000</td>\n",
              "      <td>0.00000</td>\n",
              "      <td>0.1587</td>\n",
              "      <td>0.05884</td>\n",
              "      <td>...</td>\n",
              "      <td>30.37</td>\n",
              "      <td>59.16</td>\n",
              "      <td>268.6</td>\n",
              "      <td>0.08996</td>\n",
              "      <td>0.06444</td>\n",
              "      <td>0.0000</td>\n",
              "      <td>0.0000</td>\n",
              "      <td>0.2871</td>\n",
              "      <td>0.07039</td>\n",
              "      <td>1</td>\n",
              "    </tr>\n",
              "  </tbody>\n",
              "</table>\n",
              "<p>5 rows × 31 columns</p>\n",
              "</div>\n",
              "    <div class=\"colab-df-buttons\">\n",
              "\n",
              "  <div class=\"colab-df-container\">\n",
              "    <button class=\"colab-df-convert\" onclick=\"convertToInteractive('df-e3a88ded-3d42-4e05-90b7-2fc3b0bc9ca0')\"\n",
              "            title=\"Convert this dataframe to an interactive table.\"\n",
              "            style=\"display:none;\">\n",
              "\n",
              "  <svg xmlns=\"http://www.w3.org/2000/svg\" height=\"24px\" viewBox=\"0 -960 960 960\">\n",
              "    <path d=\"M120-120v-720h720v720H120Zm60-500h600v-160H180v160Zm220 220h160v-160H400v160Zm0 220h160v-160H400v160ZM180-400h160v-160H180v160Zm440 0h160v-160H620v160ZM180-180h160v-160H180v160Zm440 0h160v-160H620v160Z\"/>\n",
              "  </svg>\n",
              "    </button>\n",
              "\n",
              "  <style>\n",
              "    .colab-df-container {\n",
              "      display:flex;\n",
              "      gap: 12px;\n",
              "    }\n",
              "\n",
              "    .colab-df-convert {\n",
              "      background-color: #E8F0FE;\n",
              "      border: none;\n",
              "      border-radius: 50%;\n",
              "      cursor: pointer;\n",
              "      display: none;\n",
              "      fill: #1967D2;\n",
              "      height: 32px;\n",
              "      padding: 0 0 0 0;\n",
              "      width: 32px;\n",
              "    }\n",
              "\n",
              "    .colab-df-convert:hover {\n",
              "      background-color: #E2EBFA;\n",
              "      box-shadow: 0px 1px 2px rgba(60, 64, 67, 0.3), 0px 1px 3px 1px rgba(60, 64, 67, 0.15);\n",
              "      fill: #174EA6;\n",
              "    }\n",
              "\n",
              "    .colab-df-buttons div {\n",
              "      margin-bottom: 4px;\n",
              "    }\n",
              "\n",
              "    [theme=dark] .colab-df-convert {\n",
              "      background-color: #3B4455;\n",
              "      fill: #D2E3FC;\n",
              "    }\n",
              "\n",
              "    [theme=dark] .colab-df-convert:hover {\n",
              "      background-color: #434B5C;\n",
              "      box-shadow: 0px 1px 3px 1px rgba(0, 0, 0, 0.15);\n",
              "      filter: drop-shadow(0px 1px 2px rgba(0, 0, 0, 0.3));\n",
              "      fill: #FFFFFF;\n",
              "    }\n",
              "  </style>\n",
              "\n",
              "    <script>\n",
              "      const buttonEl =\n",
              "        document.querySelector('#df-e3a88ded-3d42-4e05-90b7-2fc3b0bc9ca0 button.colab-df-convert');\n",
              "      buttonEl.style.display =\n",
              "        google.colab.kernel.accessAllowed ? 'block' : 'none';\n",
              "\n",
              "      async function convertToInteractive(key) {\n",
              "        const element = document.querySelector('#df-e3a88ded-3d42-4e05-90b7-2fc3b0bc9ca0');\n",
              "        const dataTable =\n",
              "          await google.colab.kernel.invokeFunction('convertToInteractive',\n",
              "                                                    [key], {});\n",
              "        if (!dataTable) return;\n",
              "\n",
              "        const docLinkHtml = 'Like what you see? Visit the ' +\n",
              "          '<a target=\"_blank\" href=https://colab.research.google.com/notebooks/data_table.ipynb>data table notebook</a>'\n",
              "          + ' to learn more about interactive tables.';\n",
              "        element.innerHTML = '';\n",
              "        dataTable['output_type'] = 'display_data';\n",
              "        await google.colab.output.renderOutput(dataTable, element);\n",
              "        const docLink = document.createElement('div');\n",
              "        docLink.innerHTML = docLinkHtml;\n",
              "        element.appendChild(docLink);\n",
              "      }\n",
              "    </script>\n",
              "  </div>\n",
              "\n",
              "\n",
              "<div id=\"df-00b8735b-57c6-4861-9688-4aa2bcd388aa\">\n",
              "  <button class=\"colab-df-quickchart\" onclick=\"quickchart('df-00b8735b-57c6-4861-9688-4aa2bcd388aa')\"\n",
              "            title=\"Suggest charts\"\n",
              "            style=\"display:none;\">\n",
              "\n",
              "<svg xmlns=\"http://www.w3.org/2000/svg\" height=\"24px\"viewBox=\"0 0 24 24\"\n",
              "     width=\"24px\">\n",
              "    <g>\n",
              "        <path d=\"M19 3H5c-1.1 0-2 .9-2 2v14c0 1.1.9 2 2 2h14c1.1 0 2-.9 2-2V5c0-1.1-.9-2-2-2zM9 17H7v-7h2v7zm4 0h-2V7h2v10zm4 0h-2v-4h2v4z\"/>\n",
              "    </g>\n",
              "</svg>\n",
              "  </button>\n",
              "\n",
              "<style>\n",
              "  .colab-df-quickchart {\n",
              "      --bg-color: #E8F0FE;\n",
              "      --fill-color: #1967D2;\n",
              "      --hover-bg-color: #E2EBFA;\n",
              "      --hover-fill-color: #174EA6;\n",
              "      --disabled-fill-color: #AAA;\n",
              "      --disabled-bg-color: #DDD;\n",
              "  }\n",
              "\n",
              "  [theme=dark] .colab-df-quickchart {\n",
              "      --bg-color: #3B4455;\n",
              "      --fill-color: #D2E3FC;\n",
              "      --hover-bg-color: #434B5C;\n",
              "      --hover-fill-color: #FFFFFF;\n",
              "      --disabled-bg-color: #3B4455;\n",
              "      --disabled-fill-color: #666;\n",
              "  }\n",
              "\n",
              "  .colab-df-quickchart {\n",
              "    background-color: var(--bg-color);\n",
              "    border: none;\n",
              "    border-radius: 50%;\n",
              "    cursor: pointer;\n",
              "    display: none;\n",
              "    fill: var(--fill-color);\n",
              "    height: 32px;\n",
              "    padding: 0;\n",
              "    width: 32px;\n",
              "  }\n",
              "\n",
              "  .colab-df-quickchart:hover {\n",
              "    background-color: var(--hover-bg-color);\n",
              "    box-shadow: 0 1px 2px rgba(60, 64, 67, 0.3), 0 1px 3px 1px rgba(60, 64, 67, 0.15);\n",
              "    fill: var(--button-hover-fill-color);\n",
              "  }\n",
              "\n",
              "  .colab-df-quickchart-complete:disabled,\n",
              "  .colab-df-quickchart-complete:disabled:hover {\n",
              "    background-color: var(--disabled-bg-color);\n",
              "    fill: var(--disabled-fill-color);\n",
              "    box-shadow: none;\n",
              "  }\n",
              "\n",
              "  .colab-df-spinner {\n",
              "    border: 2px solid var(--fill-color);\n",
              "    border-color: transparent;\n",
              "    border-bottom-color: var(--fill-color);\n",
              "    animation:\n",
              "      spin 1s steps(1) infinite;\n",
              "  }\n",
              "\n",
              "  @keyframes spin {\n",
              "    0% {\n",
              "      border-color: transparent;\n",
              "      border-bottom-color: var(--fill-color);\n",
              "      border-left-color: var(--fill-color);\n",
              "    }\n",
              "    20% {\n",
              "      border-color: transparent;\n",
              "      border-left-color: var(--fill-color);\n",
              "      border-top-color: var(--fill-color);\n",
              "    }\n",
              "    30% {\n",
              "      border-color: transparent;\n",
              "      border-left-color: var(--fill-color);\n",
              "      border-top-color: var(--fill-color);\n",
              "      border-right-color: var(--fill-color);\n",
              "    }\n",
              "    40% {\n",
              "      border-color: transparent;\n",
              "      border-right-color: var(--fill-color);\n",
              "      border-top-color: var(--fill-color);\n",
              "    }\n",
              "    60% {\n",
              "      border-color: transparent;\n",
              "      border-right-color: var(--fill-color);\n",
              "    }\n",
              "    80% {\n",
              "      border-color: transparent;\n",
              "      border-right-color: var(--fill-color);\n",
              "      border-bottom-color: var(--fill-color);\n",
              "    }\n",
              "    90% {\n",
              "      border-color: transparent;\n",
              "      border-bottom-color: var(--fill-color);\n",
              "    }\n",
              "  }\n",
              "</style>\n",
              "\n",
              "  <script>\n",
              "    async function quickchart(key) {\n",
              "      const quickchartButtonEl =\n",
              "        document.querySelector('#' + key + ' button');\n",
              "      quickchartButtonEl.disabled = true;  // To prevent multiple clicks.\n",
              "      quickchartButtonEl.classList.add('colab-df-spinner');\n",
              "      try {\n",
              "        const charts = await google.colab.kernel.invokeFunction(\n",
              "            'suggestCharts', [key], {});\n",
              "      } catch (error) {\n",
              "        console.error('Error during call to suggestCharts:', error);\n",
              "      }\n",
              "      quickchartButtonEl.classList.remove('colab-df-spinner');\n",
              "      quickchartButtonEl.classList.add('colab-df-quickchart-complete');\n",
              "    }\n",
              "    (() => {\n",
              "      let quickchartButtonEl =\n",
              "        document.querySelector('#df-00b8735b-57c6-4861-9688-4aa2bcd388aa button');\n",
              "      quickchartButtonEl.style.display =\n",
              "        google.colab.kernel.accessAllowed ? 'block' : 'none';\n",
              "    })();\n",
              "  </script>\n",
              "</div>\n",
              "\n",
              "    </div>\n",
              "  </div>\n"
            ],
            "application/vnd.google.colaboratory.intrinsic+json": {
              "type": "dataframe"
            }
          },
          "metadata": {},
          "execution_count": 6
        }
      ]
    },
    {
      "cell_type": "code",
      "source": [
        "df.shape"
      ],
      "metadata": {
        "colab": {
          "base_uri": "https://localhost:8080/"
        },
        "id": "shwgj0nCh5X_",
        "outputId": "8eab6325-6a4e-40e3-e78d-6df579b42d3a"
      },
      "execution_count": 7,
      "outputs": [
        {
          "output_type": "execute_result",
          "data": {
            "text/plain": [
              "(569, 31)"
            ]
          },
          "metadata": {},
          "execution_count": 7
        }
      ]
    },
    {
      "cell_type": "code",
      "source": [
        "df.info()"
      ],
      "metadata": {
        "colab": {
          "base_uri": "https://localhost:8080/"
        },
        "id": "UUDxtQjJdFwz",
        "outputId": "3b79c5b2-eaad-4047-de89-745146967691"
      },
      "execution_count": 8,
      "outputs": [
        {
          "output_type": "stream",
          "name": "stdout",
          "text": [
            "<class 'pandas.core.frame.DataFrame'>\n",
            "RangeIndex: 569 entries, 0 to 568\n",
            "Data columns (total 31 columns):\n",
            " #   Column                   Non-Null Count  Dtype  \n",
            "---  ------                   --------------  -----  \n",
            " 0   mean radius              569 non-null    float64\n",
            " 1   mean texture             569 non-null    float64\n",
            " 2   mean perimeter           569 non-null    float64\n",
            " 3   mean area                569 non-null    float64\n",
            " 4   mean smoothness          569 non-null    float64\n",
            " 5   mean compactness         569 non-null    float64\n",
            " 6   mean concavity           569 non-null    float64\n",
            " 7   mean concave points      569 non-null    float64\n",
            " 8   mean symmetry            569 non-null    float64\n",
            " 9   mean fractal dimension   569 non-null    float64\n",
            " 10  radius error             569 non-null    float64\n",
            " 11  texture error            569 non-null    float64\n",
            " 12  perimeter error          569 non-null    float64\n",
            " 13  area error               569 non-null    float64\n",
            " 14  smoothness error         569 non-null    float64\n",
            " 15  compactness error        569 non-null    float64\n",
            " 16  concavity error          569 non-null    float64\n",
            " 17  concave points error     569 non-null    float64\n",
            " 18  symmetry error           569 non-null    float64\n",
            " 19  fractal dimension error  569 non-null    float64\n",
            " 20  worst radius             569 non-null    float64\n",
            " 21  worst texture            569 non-null    float64\n",
            " 22  worst perimeter          569 non-null    float64\n",
            " 23  worst area               569 non-null    float64\n",
            " 24  worst smoothness         569 non-null    float64\n",
            " 25  worst compactness        569 non-null    float64\n",
            " 26  worst concavity          569 non-null    float64\n",
            " 27  worst concave points     569 non-null    float64\n",
            " 28  worst symmetry           569 non-null    float64\n",
            " 29  worst fractal dimension  569 non-null    float64\n",
            " 30  label                    569 non-null    int64  \n",
            "dtypes: float64(30), int64(1)\n",
            "memory usage: 137.9 KB\n"
          ]
        }
      ]
    },
    {
      "cell_type": "code",
      "source": [
        "df['label'].value_counts()"
      ],
      "metadata": {
        "colab": {
          "base_uri": "https://localhost:8080/"
        },
        "id": "3Tc8xdQldHJS",
        "outputId": "c3527c44-71de-4e4f-be37-29f4eabcfeda"
      },
      "execution_count": 9,
      "outputs": [
        {
          "output_type": "execute_result",
          "data": {
            "text/plain": [
              "label\n",
              "1    357\n",
              "0    212\n",
              "Name: count, dtype: int64"
            ]
          },
          "metadata": {},
          "execution_count": 9
        }
      ]
    },
    {
      "cell_type": "markdown",
      "source": [
        "0 --> Benign\n",
        "\n",
        "1`--> Malignant"
      ],
      "metadata": {
        "id": "1byrK820dTs5"
      }
    },
    {
      "cell_type": "code",
      "source": [
        "# seperating Features and Targets\n",
        "x = df.drop(columns='label' , axis=1)\n",
        "y = df['label']"
      ],
      "metadata": {
        "id": "9bkQsWJudSCB"
      },
      "execution_count": 10,
      "outputs": []
    },
    {
      "cell_type": "code",
      "source": [
        "# scaling\n",
        "from sklearn.preprocessing import StandardScaler\n",
        "scaler = StandardScaler()\n",
        "x = scaler.fit_transform(x)\n"
      ],
      "metadata": {
        "id": "ru8XIEagIe4Z"
      },
      "execution_count": 11,
      "outputs": []
    },
    {
      "cell_type": "code",
      "source": [
        "print(x)"
      ],
      "metadata": {
        "colab": {
          "base_uri": "https://localhost:8080/"
        },
        "id": "qITKd4CFJJDg",
        "outputId": "eec8baf9-af7f-4f6a-e016-c0fe12d0674b"
      },
      "execution_count": 21,
      "outputs": [
        {
          "output_type": "stream",
          "name": "stdout",
          "text": [
            "[[ 1.09706398 -2.07333501  1.26993369 ...  2.29607613  2.75062224\n",
            "   1.93701461]\n",
            " [ 1.82982061 -0.35363241  1.68595471 ...  1.0870843  -0.24388967\n",
            "   0.28118999]\n",
            " [ 1.57988811  0.45618695  1.56650313 ...  1.95500035  1.152255\n",
            "   0.20139121]\n",
            " ...\n",
            " [ 0.70228425  2.0455738   0.67267578 ...  0.41406869 -1.10454895\n",
            "  -0.31840916]\n",
            " [ 1.83834103  2.33645719  1.98252415 ...  2.28998549  1.91908301\n",
            "   2.21963528]\n",
            " [-1.80840125  1.22179204 -1.81438851 ... -1.74506282 -0.04813821\n",
            "  -0.75120669]]\n"
          ]
        }
      ]
    },
    {
      "cell_type": "code",
      "source": [
        "# Train - Test Split\n",
        "x_train , x_test , y_train , y_test = train_test_split(x , y , test_size=0.2 , random_state=2)\n",
        "\n",
        "print(x.shape , x_train.shape , x_test.shape)"
      ],
      "metadata": {
        "colab": {
          "base_uri": "https://localhost:8080/"
        },
        "id": "-iwi6FgGilMX",
        "outputId": "5acfef8d-1e1b-4830-c115-7ef768202b6d"
      },
      "execution_count": 12,
      "outputs": [
        {
          "output_type": "stream",
          "name": "stdout",
          "text": [
            "(569, 30) (455, 30) (114, 30)\n"
          ]
        }
      ]
    },
    {
      "cell_type": "markdown",
      "source": [
        "**Build Neural Network**"
      ],
      "metadata": {
        "id": "gKiqTti3j9Wm"
      }
    },
    {
      "cell_type": "markdown",
      "source": [
        "![neutral network (1).png](data:image/png;base64,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)"
      ],
      "metadata": {
        "id": "Q6td-jCCmOT1"
      }
    },
    {
      "cell_type": "code",
      "source": [
        "import tensorflow as tf\n",
        "from tensorflow import keras\n",
        "tf.random.set_seed(3)  # This can help ensure reproducibility ( you'll get the same numbers generated )"
      ],
      "metadata": {
        "id": "vpL_6n5Tl2V8"
      },
      "execution_count": 13,
      "outputs": []
    },
    {
      "cell_type": "code",
      "source": [
        "# Setting up the layers of neural network\n",
        "\n",
        "model = keras.Sequential([\n",
        "    keras.layers.Flatten(input_shape= (30,)),\n",
        "    keras.layers.Dense(20 , activation= 'relu'),\n",
        "    keras.layers.Dense(2, activation= 'sigmoid')\n",
        "])\n",
        "# compiling the neural network\n",
        "\n",
        "model.compile(optimizer= 'adam' ,\n",
        "              loss= 'sparse_categorical_crossentropy' ,\n",
        "              metrics = ['accuracy']\n",
        "    )\n",
        "# Training the neural network\n",
        "trained = model.fit(x_train , y_train , validation_split= 0.1 , epochs= 10 )"
      ],
      "metadata": {
        "colab": {
          "base_uri": "https://localhost:8080/"
        },
        "id": "4JovDpTkpMLU",
        "outputId": "ddfc23bb-ebe2-40db-a0ed-cb1c128b7be9"
      },
      "execution_count": 14,
      "outputs": [
        {
          "output_type": "stream",
          "name": "stdout",
          "text": [
            "Epoch 1/10\n",
            "13/13 [==============================] - 2s 41ms/step - loss: 0.4573 - accuracy: 0.7824 - val_loss: 0.3503 - val_accuracy: 0.8913\n",
            "Epoch 2/10\n",
            "13/13 [==============================] - 0s 11ms/step - loss: 0.3311 - accuracy: 0.8411 - val_loss: 0.2560 - val_accuracy: 0.9348\n",
            "Epoch 3/10\n",
            "13/13 [==============================] - 0s 10ms/step - loss: 0.2522 - accuracy: 0.8826 - val_loss: 0.2066 - val_accuracy: 0.9565\n",
            "Epoch 4/10\n",
            "13/13 [==============================] - 0s 15ms/step - loss: 0.2058 - accuracy: 0.9071 - val_loss: 0.1789 - val_accuracy: 0.9565\n",
            "Epoch 5/10\n",
            "13/13 [==============================] - 0s 11ms/step - loss: 0.1757 - accuracy: 0.9218 - val_loss: 0.1606 - val_accuracy: 0.9565\n",
            "Epoch 6/10\n",
            "13/13 [==============================] - 0s 10ms/step - loss: 0.1545 - accuracy: 0.9462 - val_loss: 0.1495 - val_accuracy: 0.9565\n",
            "Epoch 7/10\n",
            "13/13 [==============================] - 0s 17ms/step - loss: 0.1391 - accuracy: 0.9535 - val_loss: 0.1404 - val_accuracy: 0.9565\n",
            "Epoch 8/10\n",
            "13/13 [==============================] - 0s 10ms/step - loss: 0.1268 - accuracy: 0.9560 - val_loss: 0.1333 - val_accuracy: 0.9565\n",
            "Epoch 9/10\n",
            "13/13 [==============================] - 0s 10ms/step - loss: 0.1173 - accuracy: 0.9633 - val_loss: 0.1264 - val_accuracy: 0.9565\n",
            "Epoch 10/10\n",
            "13/13 [==============================] - 0s 16ms/step - loss: 0.1096 - accuracy: 0.9682 - val_loss: 0.1217 - val_accuracy: 0.9565\n"
          ]
        }
      ]
    },
    {
      "cell_type": "markdown",
      "source": [
        "**Visualizing Accuracy and Loss**"
      ],
      "metadata": {
        "id": "dj-4klTj_gAJ"
      }
    },
    {
      "cell_type": "code",
      "source": [
        "plt.plot(trained.history['accuracy'])\n",
        "plt.plot(trained.history['val_accuracy'])\n",
        "plt.title('Model Accuracy')\n",
        "plt.xlabel('Epochs')\n",
        "plt.ylabel('Accuracy')\n",
        "plt.legend(['Training Data' , 'Validation Data'])\n",
        "plt.show()\n"
      ],
      "metadata": {
        "colab": {
          "base_uri": "https://localhost:8080/",
          "height": 472
        },
        "id": "0WuWB5HPy0Zp",
        "outputId": "b8033499-47ce-4039-fe9e-6f527ffc40f9"
      },
      "execution_count": 15,
      "outputs": [
        {
          "output_type": "display_data",
          "data": {
            "text/plain": [
              "<Figure size 640x480 with 1 Axes>"
            ],
            "image/png": "[encoded data removed]"
          },
          "metadata": {}
        }
      ]
    },
    {
      "cell_type": "code",
      "source": [
        "plt.plot(trained.history['loss'])\n",
        "plt.plot(trained.history['val_loss'])\n",
        "plt.title('Model loss')\n",
        "plt.xlabel('Epochs')\n",
        "plt.ylabel('loss')\n",
        "plt.legend(['Training Data' , 'Validation Data'])\n",
        "plt.show()"
      ],
      "metadata": {
        "colab": {
          "base_uri": "https://localhost:8080/",
          "height": 472
        },
        "id": "jgWUp9ZOBbN6",
        "outputId": "03bb0715-74d2-4158-b296-69c69592d53b"
      },
      "execution_count": 16,
      "outputs": [
        {
          "output_type": "display_data",
          "data": {
            "text/plain": [
              "<Figure size 640x480 with 1 Axes>"
            ],
            "image/png": "[encoded data removed]"
          },
          "metadata": {}
        }
      ]
    },
    {
      "cell_type": "code",
      "source": [
        "loss , accuracy = model.evaluate(x_test , y_test)"
      ],
      "metadata": {
        "colab": {
          "base_uri": "https://localhost:8080/"
        },
        "id": "MM0rMkZ3HR1V",
        "outputId": "1027d371-6f24-48b5-c60c-150504d646df"
      },
      "execution_count": 17,
      "outputs": [
        {
          "output_type": "stream",
          "name": "stdout",
          "text": [
            "4/4 [==============================] - 0s 13ms/step - loss: 0.1498 - accuracy: 0.9298\n"
          ]
        }
      ]
    },
    {
      "cell_type": "code",
      "source": [
        "y_pred = model.predict(x_test)"
      ],
      "metadata": {
        "colab": {
          "base_uri": "https://localhost:8080/"
        },
        "id": "MGGx8hJxHYQR",
        "outputId": "078e4ef4-7fa0-49e4-8f9f-42fcf9edaf3f"
      },
      "execution_count": 18,
      "outputs": [
        {
          "output_type": "stream",
          "name": "stdout",
          "text": [
            "4/4 [==============================] - 0s 6ms/step\n"
          ]
        }
      ]
    },
    {
      "cell_type": "code",
      "source": [
        "y_pred.shape"
      ],
      "metadata": {
        "colab": {
          "base_uri": "https://localhost:8080/"
        },
        "id": "evVq6sOgH1WA",
        "outputId": "eeefaaa0-0db0-4d95-e963-cb1472276a62"
      },
      "execution_count": 19,
      "outputs": [
        {
          "output_type": "execute_result",
          "data": {
            "text/plain": [
              "(114, 2)"
            ]
          },
          "metadata": {},
          "execution_count": 19
        }
      ]
    },
    {
      "cell_type": "code",
      "source": [
        "print(y_pred)"
      ],
      "metadata": {
        "colab": {
          "base_uri": "https://localhost:8080/"
        },
        "id": "pwQiR-pTH4Ez",
        "outputId": "ccc58556-56d8-4bfe-c5e5-0d33543f62da"
      },
      "execution_count": 20,
      "outputs": [
        {
          "output_type": "stream",
          "name": "stdout",
          "text": [
            "[[0.54415846 0.621317  ]\n",
            " [0.63325894 0.5091297 ]\n",
            " [0.18089764 0.99533075]\n",
            " [0.99736655 0.01532574]\n",
            " [0.5056859  0.637629  ]\n",
            " [0.97727805 0.05515146]\n",
            " [0.50250614 0.87842405]\n",
            " [0.12369338 0.9909166 ]\n",
            " [0.1666123  0.96393484]\n",
            " [0.2378681  0.9442331 ]\n",
            " [0.401429   0.6114365 ]\n",
            " [0.2164083  0.9690746 ]\n",
            " [0.5131874  0.815034  ]\n",
            " [0.32630125 0.7932541 ]\n",
            " [0.2646074  0.9703955 ]\n",
            " [0.8008685  0.37161362]\n",
            " [0.20208739 0.9880187 ]\n",
            " [0.27559638 0.95137924]\n",
            " [0.36462098 0.9617745 ]\n",
            " [0.9828498  0.06610741]\n",
            " [0.19789131 0.95347536]\n",
            " [0.23410933 0.99106306]\n",
            " [0.21912679 0.9655311 ]\n",
            " [0.12713178 0.984566  ]\n",
            " [0.3612667  0.76338   ]\n",
            " [0.9436425  0.10473579]\n",
            " [0.2723332  0.9326579 ]\n",
            " [0.3564651  0.71952677]\n",
            " [0.9220894  0.1321892 ]\n",
            " [0.9417541  0.1126724 ]\n",
            " [0.20551465 0.9315801 ]\n",
            " [0.20374133 0.9382903 ]\n",
            " [0.26842633 0.977303  ]\n",
            " [0.9922917  0.02503744]\n",
            " [0.9708629  0.05561372]\n",
            " [0.4915497  0.94979805]\n",
            " [0.14553383 0.9920675 ]\n",
            " [0.28393388 0.92068523]\n",
            " [0.11035984 0.98533297]\n",
            " [0.20001335 0.96998924]\n",
            " [0.9986481  0.0086285 ]\n",
            " [0.60405004 0.45378333]\n",
            " [0.28820145 0.9694847 ]\n",
            " [0.3335643  0.9781934 ]\n",
            " [0.8074823  0.15537576]\n",
            " [0.24337056 0.98860157]\n",
            " [0.07692811 0.99725527]\n",
            " [0.38072336 0.97421026]\n",
            " [0.96392316 0.07140924]\n",
            " [0.9023139  0.14936651]\n",
            " [0.23183562 0.95025355]\n",
            " [0.7652975  0.2602678 ]\n",
            " [0.49963048 0.45336968]\n",
            " [0.1973936  0.9786761 ]\n",
            " [0.15289328 0.98834   ]\n",
            " [0.60670584 0.66846275]\n",
            " [0.34968147 0.8696435 ]\n",
            " [0.35257524 0.9856991 ]\n",
            " [0.9704724  0.72236216]\n",
            " [0.29363987 0.97900826]\n",
            " [0.309736   0.8273333 ]\n",
            " [0.96859956 0.09183937]\n",
            " [0.14128143 0.97878885]\n",
            " [0.943464   0.09959789]\n",
            " [0.82578284 0.22996081]\n",
            " [0.6157975  0.75607115]\n",
            " [0.983586   0.04419599]\n",
            " [0.77049685 0.28568107]\n",
            " [0.38283926 0.680573  ]\n",
            " [0.5614211  0.8821312 ]\n",
            " [0.8725607  0.3174851 ]\n",
            " [0.92645234 0.22117656]\n",
            " [0.28337792 0.94319886]\n",
            " [0.7829731  0.26535654]\n",
            " [0.07606382 0.99484974]\n",
            " [0.854585   0.15642408]\n",
            " [0.19691817 0.9808451 ]\n",
            " [0.10720046 0.98749995]\n",
            " [0.4297344  0.6528866 ]\n",
            " [0.77840877 0.12164448]\n",
            " [0.9752858  0.05279189]\n",
            " [0.8505956  0.29262313]\n",
            " [0.97183526 0.0609627 ]\n",
            " [0.497536   0.93460965]\n",
            " [0.3509714  0.9417006 ]\n",
            " [0.6286501  0.5585842 ]\n",
            " [0.5020292  0.995393  ]\n",
            " [0.31110108 0.9623333 ]\n",
            " [0.4196448  0.9335582 ]\n",
            " [0.94255066 0.25135425]\n",
            " [0.14766675 0.97361374]\n",
            " [0.26741353 0.89223605]\n",
            " [0.29763988 0.9923433 ]\n",
            " [0.9215829  0.12728405]\n",
            " [0.8342763  0.23192489]\n",
            " [0.1832134  0.94309586]\n",
            " [0.9747896  0.04754651]\n",
            " [0.94834745 0.20919037]\n",
            " [0.25303352 0.92192006]\n",
            " [0.15367435 0.9923758 ]\n",
            " [0.11694258 0.99676174]\n",
            " [0.7260434  0.38242993]\n",
            " [0.98430234 0.04599345]\n",
            " [0.99499613 0.0176803 ]\n",
            " [0.21286371 0.9639516 ]\n",
            " [0.24357507 0.9929822 ]\n",
            " [0.24755068 0.9989504 ]\n",
            " [0.23402105 0.99684423]\n",
            " [0.36761075 0.9972408 ]\n",
            " [0.466936   0.87666255]\n",
            " [0.98288465 0.04216084]\n",
            " [0.97484547 0.06720177]\n",
            " [0.5454547  0.830384  ]\n",
            " [0.9543961  0.05591564]]\n"
          ]
        }
      ]
    },
    {
      "cell_type": "markdown",
      "source": [
        "model.predict() gives predicton probability of each class ( 0 or 1 )"
      ],
      "metadata": {
        "id": "sx3ui0ZVJVF_"
      }
    },
    {
      "cell_type": "code",
      "source": [
        "# converting prediction probability into class labels\n",
        "y_pred_label = [np.argmax(i) for i in y_pred]\n",
        "print(y_pred_label)"
      ],
      "metadata": {
        "colab": {
          "base_uri": "https://localhost:8080/"
        },
        "id": "OgH5A5clIQYT",
        "outputId": "3a937c58-044e-4aac-d626-6b4653a52414"
      },
      "execution_count": 23,
      "outputs": [
        {
          "output_type": "stream",
          "name": "stdout",
          "text": [
            "[1, 0, 1, 0, 1, 0, 1, 1, 1, 1, 1, 1, 1, 1, 1, 0, 1, 1, 1, 0, 1, 1, 1, 1, 1, 0, 1, 1, 0, 0, 1, 1, 1, 0, 0, 1, 1, 1, 1, 1, 0, 0, 1, 1, 0, 1, 1, 1, 0, 0, 1, 0, 0, 1, 1, 1, 1, 1, 0, 1, 1, 0, 1, 0, 0, 1, 0, 0, 1, 1, 0, 0, 1, 0, 1, 0, 1, 1, 1, 0, 0, 0, 0, 1, 1, 0, 1, 1, 1, 0, 1, 1, 1, 0, 0, 1, 0, 0, 1, 1, 1, 0, 0, 0, 1, 1, 1, 1, 1, 1, 0, 0, 1, 0]\n"
          ]
        }
      ]
    }
  ]
}